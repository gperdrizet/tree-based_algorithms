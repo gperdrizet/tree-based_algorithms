{
 "cells": [
  {
   "cell_type": "markdown",
   "metadata": {},
   "source": [
    "### Purpose\n",
    "The goal of this notebook is to predict creditworthiness of borrowers. Previous attempts in the context of the Springboard unit 8.2 miniproject: tree-based algorithms yielded unacceptably high false positive rates. The XGBoost algorithm and the following strategies will be used in an attempt to improve:\n",
    "1. Sample stratification\n",
    "2. Weighting/penalizing false positives and false negatives differently\n",
    "3. Feature trimming\n",
    "4. Bootstrap aggregation\n",
    "5. Hyperparameter tuning"
   ]
  },
  {
   "cell_type": "code",
   "execution_count": 1,
   "metadata": {},
   "outputs": [
    {
     "data": {
      "text/plain": [
       "<Figure size 432x288 with 0 Axes>"
      ]
     },
     "metadata": {},
     "output_type": "display_data"
    }
   ],
   "source": [
    "import pandas as pd\n",
    "import numpy as np\n",
    "import matplotlib.pyplot as plt\n",
    "import seaborn as sns\n",
    "from time import time\n",
    "from sklearn.metrics import make_scorer\n",
    "from sklearn.metrics import average_precision_score\n",
    "from sklearn.metrics import confusion_matrix\n",
    "from sklearn.metrics import plot_confusion_matrix\n",
    "from sklearn.model_selection import train_test_split\n",
    "from sklearn.model_selection import StratifiedShuffleSplit\n",
    "from sklearn.model_selection import GridSearchCV\n",
    "from sklearn.model_selection import RandomizedSearchCV\n",
    "from sklearn.utils.fixes import loguniform\n",
    "from xgboost import XGBClassifier\n",
    "from scipy.interpolate import griddata\n",
    "\n",
    "%matplotlib inline\n",
    "sns.set_style(\"ticks\")\n",
    "sns.set_context(\"notebook\", font_scale=1.5, rc={\"lines.linewidth\": 2.5})\n",
    "sns.despine()"
   ]
  },
  {
   "cell_type": "markdown",
   "metadata": {},
   "source": [
    "**Variable definitions**"
   ]
  },
  {
   "cell_type": "code",
   "execution_count": 2,
   "metadata": {},
   "outputs": [],
   "source": [
    "data_file = \"./GermanCredit.csv\"\n",
    "rand_seed = 5\n",
    "num_jobs = 14\n",
    "random_search_iterations = 1000"
   ]
  },
  {
   "cell_type": "markdown",
   "metadata": {},
   "source": [
    "**Functions**"
   ]
  },
  {
   "cell_type": "code",
   "execution_count": 3,
   "metadata": {},
   "outputs": [],
   "source": [
    "def make_label_numeric(row):\n",
    "    if row['Class'] == 'Good':\n",
    "        return 1\n",
    "    \n",
    "    return 0\n",
    "\n",
    "def print_model_score(model, x_train, y_train, x_test, y_test):\n",
    "    training_score = average_precision_score(model.predict(x_train), y_train)\n",
    "    print('Average precision-recall score, training set: {}'.format(np.round(training_score, 2)))\n",
    "\n",
    "    test_score = average_precision_score(model.predict(x_test), y_test)\n",
    "    print('Average precision-recall score, test set: {}'.format(np.round(test_score,2)))\n",
    "    \n",
    "def display_confusion_matrix(model, class_names, x_test, y_test):\n",
    "    disp = plot_confusion_matrix(model, x_test, y_test,\n",
    "                                 display_labels=class_names,\n",
    "                                 cmap=plt.cm.Blues,\n",
    "                                 normalize='true')\n",
    "\n",
    "    disp.ax_.set_title(\"Normalized confusion matrix\")\n",
    "\n",
    "    print(\"Normalized confusion matrix\")\n",
    "    print(disp.confusion_matrix)\n",
    "\n",
    "    plt.show()\n",
    "    \n",
    "def stratified_train_test_split(data, targets, rand_seed):\n",
    "    sss = StratifiedShuffleSplit(n_splits=1, random_state=rand_seed)\n",
    "\n",
    "    for train_index, test_index in sss.split(data, targets):\n",
    "        x_train, x_test = data.iloc[train_index], data.iloc[test_index]\n",
    "        y_train, y_test = targets.iloc[train_index], targets.iloc[test_index]\n",
    "        return np.array(x_train), np.array(y_train), np.array(x_test), np.array(y_test)\n",
    "    \n",
    "def regularize_grid(x, y, z, resolution):\n",
    "\n",
    "    # target grid to interpolate to\n",
    "    xi = np.arange(min(x), max(x), ((max(x) - min(x)) / resolution))\n",
    "    yi = np.arange(min(y), max(y), ((max(y) - min(y)) / resolution))\n",
    "    xi, yi = np.meshgrid(xi, yi)\n",
    "\n",
    "    # interpolate\n",
    "    zi = griddata((x, y), z, (xi, yi), method='linear')\n",
    "    \n",
    "    return xi, yi, zi"
   ]
  },
  {
   "cell_type": "code",
   "execution_count": 4,
   "metadata": {},
   "outputs": [
    {
     "name": "stdout",
     "output_type": "stream",
     "text": [
      "Good credit observations: 700\n",
      "Bad credit observations: 300\n"
     ]
    }
   ],
   "source": [
    "# read in raw data\n",
    "credit_data = pd.read_csv(data_file)\n",
    "\n",
    "# change credit lable from 'Good' or 'Bad' to 1 or 0\n",
    "credit_data['Class'] = credit_data.apply(lambda row : make_label_numeric(row), axis=1)\n",
    "\n",
    "# count number of observations in each class\n",
    "good_credit_count = len(credit_data[credit_data[\"Class\"] == 1])\n",
    "bad_credit_count = len(credit_data) - good_credit_count\n",
    "print('Good credit observations: {}'.format(good_credit_count))\n",
    "print('Bad credit observations: {}'.format(bad_credit_count))"
   ]
  },
  {
   "cell_type": "markdown",
   "metadata": {},
   "source": [
    "Data is not balanced. This will be the first issue addressed, but first, let's get a baseline for XGBoot's performance on this dataset by training on the unmanipulated data with all defaults."
   ]
  },
  {
   "cell_type": "markdown",
   "metadata": {},
   "source": [
    "**Baseline XGBoost model**"
   ]
  },
  {
   "cell_type": "code",
   "execution_count": 5,
   "metadata": {},
   "outputs": [
    {
     "name": "stdout",
     "output_type": "stream",
     "text": [
      "Average precision-recall score, training set: 0.94\n",
      "Average precision-recall score, test set: 0.82\n",
      "Normalized confusion matrix\n",
      "[[0.41428571 0.58571429]\n",
      " [0.16666667 0.83333333]]\n"
     ]
    },
    {
     "data": {
      "image/png": "[encoded data removed]",
      "text/plain": [
       "<Figure size 432x288 with 2 Axes>"
      ]
     },
     "metadata": {
      "needs_background": "light"
     },
     "output_type": "display_data"
    }
   ],
   "source": [
    "# make training and test data from raw credit data\n",
    "class_names = np.array(['Bad credit', 'Good credit'])\n",
    "unbalanced_targets = credit_data['Class']\n",
    "unbalanced_data = credit_data.drop(['Class'], axis=1)\n",
    "x_train_unbalanced, x_test_unbalanced, y_train_unbalanced, y_test_unbalanced = train_test_split(unbalanced_data.values, unbalanced_targets.values, random_state=rand_seed)\n",
    "\n",
    "# instantiate and train classifier with defaults\n",
    "xgb_mod = XGBClassifier() \n",
    "xgb_mod.fit(x_train_unbalanced, y_train_unbalanced)\n",
    "\n",
    "# score\n",
    "print_model_score(xgb_mod, x_train_unbalanced, y_train_unbalanced, x_test_unbalanced, y_test_unbalanced)\n",
    "\n",
    "# show confusion matrix\n",
    "display_confusion_matrix(xgb_mod, class_names, x_test_unbalanced, y_test_unbalanced)"
   ]
  },
  {
   "cell_type": "markdown",
   "metadata": {},
   "source": [
    "**XGBoost model with sample stratification and class weights**"
   ]
  },
  {
   "cell_type": "code",
   "execution_count": 6,
   "metadata": {},
   "outputs": [],
   "source": [
    "x_train_stratified, y_train_stratified, x_test_stratified, y_test_stratified = stratified_train_test_split(unbalanced_data, unbalanced_targets, rand_seed)"
   ]
  },
  {
   "cell_type": "code",
   "execution_count": 7,
   "metadata": {},
   "outputs": [
    {
     "name": "stdout",
     "output_type": "stream",
     "text": [
      "Class weight: 0.43\n",
      "\n",
      "Average precision-recall score, training set: 0.81\n",
      "Average precision-recall score, test set: 0.72\n",
      "\n",
      "Normalized confusion matrix\n",
      "[[0.63333333 0.36666667]\n",
      " [0.25714286 0.74285714]]\n"
     ]
    },
    {
     "data": {
      "image/png": "[encoded data removed]",
      "text/plain": [
       "<Figure size 432x288 with 2 Axes>"
      ]
     },
     "metadata": {
      "needs_background": "light"
     },
     "output_type": "display_data"
    }
   ],
   "source": [
    "class_weight = bad_credit_count / good_credit_count\n",
    "print('Class weight: {}\\n'.format(np.round(class_weight,2)))\n",
    "\n",
    "# instantiate and train classifier with class weight\n",
    "weighted_xgb_mod = XGBClassifier(scale_pos_weight=class_weight) \n",
    "\n",
    "# train on stratified data\n",
    "weighted_xgb_mod.fit(x_train_stratified, y_train_stratified)\n",
    "\n",
    "# score\n",
    "print_model_score(weighted_xgb_mod, x_train_stratified, y_train_stratified, x_test_stratified, y_test_stratified)\n",
    "\n",
    "print()\n",
    "\n",
    "# show confusion matrix\n",
    "display_confusion_matrix(weighted_xgb_mod, class_names, x_test_stratified, y_test_stratified)"
   ]
  },
  {
   "cell_type": "markdown",
   "metadata": {},
   "source": [
    "Nice improvement! Let's run a search on the class weight and see if we can do better."
   ]
  },
  {
   "cell_type": "markdown",
   "metadata": {},
   "source": [
    "**XGBoost with sample stratification and optimized class weight**"
   ]
  },
  {
   "cell_type": "code",
   "execution_count": null,
   "metadata": {},
   "outputs": [],
   "source": [
    "# initalize default XGBoost classifier\n",
    "xgb_mod = XGBClassifier()\n",
    "\n",
    "# define search space\n",
    "param_grid = {'scale_pos_weight': np.arange(0, 1.0, 0.001)}\n",
    "\n",
    "# run grid search\n",
    "class_weight_grid_search = GridSearchCV(\n",
    "    xgb_mod, \n",
    "    param_grid=param_grid,\n",
    "    n_jobs=num_jobs,\n",
    "#    scoring=make_scorer(average_precision_score)\n",
    ")\n",
    "\n",
    "start = time()\n",
    "best_weighted_xgb_mod = class_weight_grid_search.fit(x_train_stratified, y_train_stratified)\n",
    "\n",
    "print(\"GridSearchCV took %.2f seconds for %d candidate parameter settings.\"\n",
    "      % (time() - start, len(class_weight_grid_search.cv_results_['params'])))"
   ]
  },
  {
   "cell_type": "code",
   "execution_count": null,
   "metadata": {},
   "outputs": [],
   "source": [
    "class_weight_grid_search_results = pd.DataFrame(class_weight_grid_search.cv_results_).dropna()\n",
    "\n",
    "plt.scatter(class_weight_grid_search_results.param_scale_pos_weight, class_weight_grid_search_results.mean_test_score, s=5)\n",
    "plt.xlabel(\"Class weight\")\n",
    "plt.ylabel(\"Mean score\")\n",
    "plt.title(\"Class weight vs score\")\n",
    "plt.show()"
   ]
  },
  {
   "cell_type": "code",
   "execution_count": null,
   "metadata": {},
   "outputs": [],
   "source": [
    "# score the best model\n",
    "print_model_score(best_weighted_xgb_mod, x_train_stratified, y_train_stratified, x_test_stratified, y_test_stratified)\n",
    "\n",
    "print()\n",
    "\n",
    "# show confusion matrix for best model\n",
    "display_confusion_matrix(best_weighted_xgb_mod, class_names, x_test_stratified, y_test_stratified)"
   ]
  },
  {
   "cell_type": "code",
   "execution_count": null,
   "metadata": {},
   "outputs": [],
   "source": [
    "winner = class_weight_grid_search_results[class_weight_grid_search_results['rank_test_score'] == class_weight_grid_search_results['rank_test_score'].min()]\n",
    "winner"
   ]
  },
  {
   "cell_type": "code",
   "execution_count": null,
   "metadata": {},
   "outputs": [],
   "source": [
    "best_class_weight = winner['param_scale_pos_weight'].iloc[0]\n",
    "print('Winning class weight: {}'.format(best_class_weight))"
   ]
  },
  {
   "cell_type": "markdown",
   "metadata": {},
   "source": [
    "**XGBoost with stratification, empirical class weight and hyperparameter tuning**\n",
    "\n",
    "First optimize learning rate and number of estimators"
   ]
  },
  {
   "cell_type": "code",
   "execution_count": null,
   "metadata": {},
   "outputs": [],
   "source": [
    "# initalize XGBoost classifier with optimized class weight\n",
    "xgb_mod = XGBClassifier(scale_pos_weight=best_class_weight)\n",
    "\n",
    "# hyperparameter distributions\n",
    "param_dist = {}\n",
    "param_dist = {\n",
    "    'learning_rate': loguniform(0.01, 1.0),\n",
    "    'n_estimators': range(1,1000)\n",
    "}\n",
    "\n",
    "# set up random search\n",
    "xgb_random_search = RandomizedSearchCV(\n",
    "    xgb_mod, \n",
    "    param_distributions=param_dist,\n",
    "#    scoring=make_scorer(average_precision_score),\n",
    "    n_iter=random_search_iterations,\n",
    "    n_jobs=num_jobs\n",
    ")\n",
    "\n",
    "# run and time search\n",
    "start = time()\n",
    "xgb_best_model = xgb_random_search.fit(x_train_stratified, y_train_stratified)\n",
    "print(\"RandomizedSearchCV took %.f min. for %d candidate\"\n",
    "      \" parameter settings.\" % (((time() - start)/60), random_search_iterations))"
   ]
  },
  {
   "cell_type": "code",
   "execution_count": null,
   "metadata": {},
   "outputs": [],
   "source": [
    "# score the best model\n",
    "print_model_score(xgb_best_model, x_train_stratified, y_train_stratified, x_test_stratified, y_test_stratified)\n",
    "\n",
    "print()\n",
    "\n",
    "# show confusion matrix for best model\n",
    "display_confusion_matrix(xgb_best_model, class_names, x_test_stratified, y_test_stratified)"
   ]
  },
  {
   "cell_type": "code",
   "execution_count": null,
   "metadata": {},
   "outputs": [],
   "source": [
    "rand_search_results = pd.DataFrame(xgb_random_search.cv_results_).dropna()\n",
    "\n",
    "x = rand_search_results['param_n_estimators']\n",
    "y = rand_search_results['param_learning_rate']\n",
    "z = rand_search_results['mean_test_score']\n",
    "xi, yi, zi = regularize_grid(x, y, z, 100)\n",
    "\n",
    "plt.contourf(xi, yi, zi, 10, cmap=plt.cm.Blues)\n",
    "plt.xlabel(\"N estimators\")\n",
    "plt.ylabel(\"Learning rate\")\n",
    "plt.title(\"Effect of estimator count and learning \\n rate on score\")\n",
    "plt.colorbar()\n",
    "plt.show()"
   ]
  },
  {
   "cell_type": "code",
   "execution_count": null,
   "metadata": {},
   "outputs": [],
   "source": [
    "winner = rand_search_results[rand_search_results['rank_test_score'] == rand_search_results['rank_test_score'].min()]\n",
    "best_learning_rate = winner['param_learning_rate'].iloc[0]\n",
    "best_n_estimators = winner['param_n_estimators'].iloc[0]\n",
    "\n",
    "print('Winning learning rate: {}'.format(np.round(best_learning_rate,2)))\n",
    "print('Winning estimator count: {}'.format(best_n_estimators))"
   ]
  },
  {
   "cell_type": "markdown",
   "metadata": {},
   "source": [
    "Now optimize regularization:"
   ]
  },
  {
   "cell_type": "code",
   "execution_count": null,
   "metadata": {},
   "outputs": [],
   "source": [
    "# initalize XGBoost classifier with optimized \n",
    "# class weight, learning rate and n_estimators\n",
    "xgb_mod = XGBClassifier(\n",
    "    scale_pos_weight=best_class_weight,\n",
    "    learning_rate=best_learning_rate,\n",
    "    n_estimators=best_n_estimators\n",
    ")\n",
    "\n",
    "# hyperparameter distributions\n",
    "param_dist = {}\n",
    "param_dist = {\n",
    "  'reg_alpha' : np.arange(0, 1, 0.01),\n",
    "  'reg_lambda': np.arange(0, 10, 0.1)\n",
    "}\n",
    "\n",
    "# set up random search\n",
    "xgb_random_search = RandomizedSearchCV(\n",
    "    xgb_mod, \n",
    "    param_distributions=param_dist,\n",
    "#    scoring=make_scorer(average_precision_score),\n",
    "    n_iter=random_search_iterations,\n",
    "    n_jobs=num_jobs\n",
    ")\n",
    "\n",
    "# run and time search\n",
    "start = time()\n",
    "xgb_best_model = xgb_random_search.fit(x_train_stratified, y_train_stratified)\n",
    "print(\"RandomizedSearchCV took %.f min. for %d candidate\"\n",
    "      \" parameter settings.\" % (((time() - start)/60), random_search_iterations))"
   ]
  },
  {
   "cell_type": "code",
   "execution_count": null,
   "metadata": {},
   "outputs": [],
   "source": [
    "# score the best model\n",
    "print_model_score(xgb_best_model, x_train_stratified, y_train_stratified, x_test_stratified, y_test_stratified)\n",
    "\n",
    "print()\n",
    "\n",
    "# show confusion matrix for best model\n",
    "display_confusion_matrix(xgb_best_model, class_names, x_test_stratified, y_test_stratified)"
   ]
  },
  {
   "cell_type": "code",
   "execution_count": null,
   "metadata": {},
   "outputs": [],
   "source": [
    "rand_search_results = pd.DataFrame(xgb_random_search.cv_results_).dropna()\n",
    "\n",
    "x = rand_search_results['param_reg_alpha']\n",
    "y = rand_search_results['param_reg_lambda']\n",
    "z = rand_search_results['mean_test_score']\n",
    "xi, yi, zi = regularize_grid(x, y, z, 100)\n",
    "\n",
    "plt.contourf(xi, yi, zi, 10, cmap=plt.cm.Blues)\n",
    "plt.xlabel(\"L1 regularization term\")\n",
    "plt.ylabel(\"L2 regularization term\")\n",
    "plt.title(\"Effect L1 and L2 regularization on score\")\n",
    "plt.colorbar()\n",
    "plt.show()"
   ]
  },
  {
   "cell_type": "code",
   "execution_count": null,
   "metadata": {},
   "outputs": [],
   "source": []
  }
 ],
 "metadata": {
  "kernelspec": {
   "display_name": "Python 3",
   "language": "python",
   "name": "python3"
  },
  "language_info": {
   "codemirror_mode": {
    "name": "ipython",
    "version": 3
   },
   "file_extension": ".py",
   "mimetype": "text/x-python",
   "name": "python",
   "nbconvert_exporter": "python",
   "pygments_lexer": "ipython3",
   "version": "3.6.9"
  }
 },
 "nbformat": 4,
 "nbformat_minor": 2
}
